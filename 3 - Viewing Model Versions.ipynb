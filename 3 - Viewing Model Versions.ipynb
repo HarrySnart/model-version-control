{
 "cells": [
  {
   "cell_type": "markdown",
   "id": "660c508c",
   "metadata": {},
   "source": [
    "# Viewing and Editing Model Version Sets\n",
    "\n",
    "In this notebook we'll show how we can:\n",
    "- Load a model version set\n",
    "- View a list of models and associated version set labels\n",
    "- Update version labels\n",
    "\n",
    "When we update the version labels we'll adopt a 'Champion-Challenger' convention where we label one model as the champion, which is to be used for production inference. We can periodically change the label - for example as we monitor drift in a model we may retrain a set of models and label the champion based on fit statistics. \n",
    "\n",
    "Using this approach we set our preferred model as a 'champion' so that we pull in the champion for inference batch jobs."
   ]
  },
  {
   "cell_type": "markdown",
   "id": "191d73be",
   "metadata": {},
   "source": [
    "### Load Dependencies"
   ]
  },
  {
   "cell_type": "code",
   "execution_count": 48,
   "id": "8100f5e6",
   "metadata": {},
   "outputs": [],
   "source": [
    "import ads\n",
    "import tempfile\n",
    "from ads.model import SklearnModel\n",
    "from ads.model import ModelVersionSet\n",
    "from sklearn.datasets import load_iris\n",
    "from sklearn.linear_model import LogisticRegression\n",
    "from sklearn.ensemble import RandomForestClassifier\n",
    "from sklearn.model_selection import train_test_split\n",
    "from sklearn.metrics import classification_report\n",
    "import pandas as pd\n",
    "import numpy as np\n",
    "from ads.common.model_metadata import UseCaseType\n",
    "import json\n",
    "import joblib"
   ]
  },
  {
   "cell_type": "markdown",
   "id": "39dbc6db",
   "metadata": {},
   "source": [
    "### Connect to Model Version Set"
   ]
  },
  {
   "cell_type": "code",
   "execution_count": null,
   "id": "f9b0a15c",
   "metadata": {},
   "outputs": [],
   "source": [
    "project_ocid = 'ocid1.datascienceproject...'\n",
    "compartment_ocid = 'ocid1.compartment...'"
   ]
  },
  {
   "cell_type": "code",
   "execution_count": 5,
   "id": "94106eff",
   "metadata": {},
   "outputs": [],
   "source": [
    "# this time we'll do it by name rather than having to know the OCID\n",
    "mvs = ModelVersionSet.from_name(name='demo-model-version-set',compartment_id=compartment_ocid)"
   ]
  },
  {
   "cell_type": "markdown",
   "id": "145c0998",
   "metadata": {
    "vscode": {
     "languageId": "plaintext"
    }
   },
   "source": [
    "### View Models in Set"
   ]
  },
  {
   "cell_type": "code",
   "execution_count": null,
   "id": "03c5e493",
   "metadata": {},
   "outputs": [],
   "source": [
    "mvs"
   ]
  },
  {
   "cell_type": "code",
   "execution_count": 43,
   "id": "d003748c",
   "metadata": {},
   "outputs": [
    {
     "name": "stdout",
     "output_type": "stream",
     "text": [
      "WARNING:ads.model.datascience_model:the JSON object must be str, bytes or bytearray, not Schema\n",
      "WARNING:ads.model.datascience_model:the JSON object must be str, bytes or bytearray, not Schema\n",
      "WARNING:ads.model.datascience_model:the JSON object must be str, bytes or bytearray, not Schema\n",
      "WARNING:ads.model.datascience_model:the JSON object must be str, bytes or bytearray, not Schema\n"
     ]
    }
   ],
   "source": [
    "num_models = len(mvs.models())"
   ]
  },
  {
   "cell_type": "code",
   "execution_count": 44,
   "id": "3101b2bf",
   "metadata": {},
   "outputs": [
    {
     "name": "stdout",
     "output_type": "stream",
     "text": [
      "There are 2 models in the Model Version Set\n"
     ]
    }
   ],
   "source": [
    "\n",
    "print('There are', num_models,'models in the Model Version Set')"
   ]
  },
  {
   "cell_type": "markdown",
   "id": "361648c6",
   "metadata": {},
   "source": [
    "### Compare Models in Model Version Set"
   ]
  },
  {
   "cell_type": "code",
   "execution_count": 95,
   "id": "be66d6ac",
   "metadata": {},
   "outputs": [],
   "source": [
    "def compare_models(model_version_set, hold_out_data,actuals):\n",
    "    ''' Loads each model, performs hold-out prediction, calculates classification report and returns model version set information'''\n",
    "\n",
    "    df = pd.DataFrame()\n",
    "    # columns=[model_name,model_version,model_version_label,model_type,algo_type,model_ocid,model_features,model_accuracy,model_f1,model_precision,model_recall]\n",
    "\n",
    "    for i in range(len(model_version_set)):\n",
    "        # load model object\n",
    "        model_meta = model_version_set[i]\n",
    "        model_ocid = model_version_set[i].id\n",
    "        temp_dir = tempfile.mkdtemp()\n",
    "        downloaded_model = SklearnModel.from_model_catalog(model_ocid,artifact_dir=temp_dir,ignore_conda_error=True)        \n",
    "\n",
    "        # score hold-out\n",
    "        model = joblib.load(temp_dir+'/model.joblib')\n",
    "\n",
    "        preds = model.predict(hold_out_data)\n",
    "\n",
    "        # create classification report\n",
    "        rpt = classification_report(actuals,preds,output_dict=True)\n",
    "\n",
    "        model_taxonomy = model_meta.defined_metadata_list.to_dict()\n",
    "        framework = model_taxonomy['data'][0]['value']\n",
    "        algo = model_taxonomy['data'][2]['value']\n",
    "        hyperparms = json.dumps(model_taxonomy['data'][4]['value'])\n",
    "        objective = model_taxonomy['data'][5]['value']\n",
    "        version_label = model_meta.version_label\n",
    "        version_id = model_meta.version_id\n",
    "\n",
    "        acc = rpt['accuracy']\n",
    "        f1 = rpt['weighted avg']['f1-score']\n",
    "        precision = rpt['weighted avg']['precision']\n",
    "        recall = rpt['weighted avg']['recall']\n",
    "\n",
    "\n",
    "        # write to df\n",
    "        temp_df = pd.DataFrame({'display_name':[model_meta.display_name],'version':[version_id],'version_label':[version_label],'framework':[framework],'algo':[algo],'objective':[objective],'accuracy':[acc],'f1':[f1],'precision':[precision],'recall':[recall],'hyperparams':[hyperparms]})\n",
    "        df = pd.concat([df,temp_df],ignore_index=True)\n",
    "\n",
    "    return df\n",
    "\n",
    "\n"
   ]
  },
  {
   "cell_type": "code",
   "execution_count": 81,
   "id": "3e0a70a1",
   "metadata": {},
   "outputs": [],
   "source": [
    "X_test=pd.read_csv('data/x_test.csv')\n",
    "y_test=pd.read_csv('data/y_test.csv')"
   ]
  },
  {
   "cell_type": "code",
   "execution_count": 96,
   "id": "b2ff5a42",
   "metadata": {},
   "outputs": [
    {
     "name": "stdout",
     "output_type": "stream",
     "text": [
      "WARNING:ads.model.datascience_model:the JSON object must be str, bytes or bytearray, not Schema\n",
      "WARNING:ads.model.datascience_model:the JSON object must be str, bytes or bytearray, not Schema\n",
      "WARNING:ads.model.datascience_model:the JSON object must be str, bytes or bytearray, not Schema\n",
      "WARNING:ads.model.datascience_model:the JSON object must be str, bytes or bytearray, not Schema\n",
      "WARNING:ads.model.datascience_model:the JSON object must be str, bytes or bytearray, not Schema\n",
      "WARNING:ads.model.datascience_model:the JSON object must be str, bytes or bytearray, not Schema\n"
     ]
    },
    {
     "data": {
      "application/vnd.jupyter.widget-view+json": {
       "model_id": "cea3360525954e64abc42c6f7c5ea0ff",
       "version_major": 2,
       "version_minor": 0
      },
      "text/plain": [
       "loop1:   0%|          | 0/4 [00:00<?, ?it/s]"
      ]
     },
     "metadata": {},
     "output_type": "display_data"
    },
    {
     "name": "stdout",
     "output_type": "stream",
     "text": [
      "WARNING:ads.common:In the future model input will be serialized by `cloudpickle` by default. Currently, model input are serialized into a dictionary containing serialized input data and original data type information.Set `model_input_serializer=\"cloudpickle\"` to use cloudpickle model input serializer.\n",
      "WARNING:root:Cannot extract the hyperparameters from this model automatically.\n",
      "WARNING:ads.model.datascience_model:the JSON object must be str, bytes or bytearray, not Schema\n",
      "WARNING:ads.model.datascience_model:the JSON object must be str, bytes or bytearray, not Schema\n"
     ]
    },
    {
     "data": {
      "application/vnd.jupyter.widget-view+json": {
       "model_id": "e260452ad6d0416fbb385b16433a1bae",
       "version_major": 2,
       "version_minor": 0
      },
      "text/plain": [
       "loop1:   0%|          | 0/4 [00:00<?, ?it/s]"
      ]
     },
     "metadata": {},
     "output_type": "display_data"
    },
    {
     "name": "stdout",
     "output_type": "stream",
     "text": [
      "WARNING:ads.common:In the future model input will be serialized by `cloudpickle` by default. Currently, model input are serialized into a dictionary containing serialized input data and original data type information.Set `model_input_serializer=\"cloudpickle\"` to use cloudpickle model input serializer.\n",
      "WARNING:root:Cannot extract the hyperparameters from this model automatically.\n"
     ]
    },
    {
     "data": {
      "text/html": [
       "<div>\n",
       "<style scoped>\n",
       "    .dataframe tbody tr th:only-of-type {\n",
       "        vertical-align: middle;\n",
       "    }\n",
       "\n",
       "    .dataframe tbody tr th {\n",
       "        vertical-align: top;\n",
       "    }\n",
       "\n",
       "    .dataframe thead th {\n",
       "        text-align: right;\n",
       "    }\n",
       "</style>\n",
       "<table border=\"1\" class=\"dataframe\">\n",
       "  <thead>\n",
       "    <tr style=\"text-align: right;\">\n",
       "      <th></th>\n",
       "      <th>display_name</th>\n",
       "      <th>version</th>\n",
       "      <th>version_label</th>\n",
       "      <th>framework</th>\n",
       "      <th>algo</th>\n",
       "      <th>objective</th>\n",
       "      <th>accuracy</th>\n",
       "      <th>f1</th>\n",
       "      <th>precision</th>\n",
       "      <th>recall</th>\n",
       "      <th>hyperparams</th>\n",
       "    </tr>\n",
       "  </thead>\n",
       "  <tbody>\n",
       "    <tr>\n",
       "      <th>0</th>\n",
       "      <td>Updated model</td>\n",
       "      <td>2</td>\n",
       "      <td>Version 2</td>\n",
       "      <td>1.7.2</td>\n",
       "      <td>RandomForestClassifier</td>\n",
       "      <td>scikit-learn</td>\n",
       "      <td>1.0</td>\n",
       "      <td>1.0</td>\n",
       "      <td>1.0</td>\n",
       "      <td>1.0</td>\n",
       "      <td>{\"bootstrap\": \"True\", \"ccp_alpha\": \"0.0\", \"class_weight\": \"None\", \"criterion\": \"gini\", \"max_depth\": \"None\", \"max_features\": \"sqrt\", \"max_leaf_nodes\": \"None\", \"max_samples\": \"None\", \"min_impurity_decrease\": \"0.0\", \"min_samples_leaf\": \"1\", \"min_samples_split\": \"2\", \"min_weight_fraction_leaf\": \"0.0\", \"monotonic_cst\": \"None\", \"n_estimators\": \"100\", \"n_jobs\": \"None\", \"oob_score\": \"False\", \"random_state\": \"None\", \"verbose\": \"0\", \"warm_start\": \"False\"}</td>\n",
       "    </tr>\n",
       "    <tr>\n",
       "      <th>1</th>\n",
       "      <td>Initial model</td>\n",
       "      <td>1</td>\n",
       "      <td>Version 1</td>\n",
       "      <td>1.7.2</td>\n",
       "      <td>LogisticRegression</td>\n",
       "      <td>scikit-learn</td>\n",
       "      <td>1.0</td>\n",
       "      <td>1.0</td>\n",
       "      <td>1.0</td>\n",
       "      <td>1.0</td>\n",
       "      <td>{\"C\": \"1.0\", \"class_weight\": \"None\", \"dual\": \"False\", \"fit_intercept\": \"True\", \"intercept_scaling\": \"1\", \"l1_ratio\": \"None\", \"max_iter\": \"100\", \"multi_class\": \"deprecated\", \"n_jobs\": \"None\", \"penalty\": \"l2\", \"random_state\": \"None\", \"solver\": \"lbfgs\", \"tol\": \"0.0001\", \"verbose\": \"0\", \"warm_start\": \"False\"}</td>\n",
       "    </tr>\n",
       "  </tbody>\n",
       "</table>\n",
       "</div>"
      ],
      "text/plain": [
       "    display_name  version version_label framework                    algo  \\\n",
       "0  Updated model        2     Version 2     1.7.2  RandomForestClassifier   \n",
       "1  Initial model        1     Version 1     1.7.2      LogisticRegression   \n",
       "\n",
       "      objective  accuracy   f1  precision  recall  \\\n",
       "0  scikit-learn       1.0  1.0        1.0     1.0   \n",
       "1  scikit-learn       1.0  1.0        1.0     1.0   \n",
       "\n",
       "                                                                                                                                                                                                                                                                                                                                                                                                                                                         hyperparams  \n",
       "0  {\"bootstrap\": \"True\", \"ccp_alpha\": \"0.0\", \"class_weight\": \"None\", \"criterion\": \"gini\", \"max_depth\": \"None\", \"max_features\": \"sqrt\", \"max_leaf_nodes\": \"None\", \"max_samples\": \"None\", \"min_impurity_decrease\": \"0.0\", \"min_samples_leaf\": \"1\", \"min_samples_split\": \"2\", \"min_weight_fraction_leaf\": \"0.0\", \"monotonic_cst\": \"None\", \"n_estimators\": \"100\", \"n_jobs\": \"None\", \"oob_score\": \"False\", \"random_state\": \"None\", \"verbose\": \"0\", \"warm_start\": \"False\"}  \n",
       "1                                                                                                                                                 {\"C\": \"1.0\", \"class_weight\": \"None\", \"dual\": \"False\", \"fit_intercept\": \"True\", \"intercept_scaling\": \"1\", \"l1_ratio\": \"None\", \"max_iter\": \"100\", \"multi_class\": \"deprecated\", \"n_jobs\": \"None\", \"penalty\": \"l2\", \"random_state\": \"None\", \"solver\": \"lbfgs\", \"tol\": \"0.0001\", \"verbose\": \"0\", \"warm_start\": \"False\"}  "
      ]
     },
     "execution_count": 96,
     "metadata": {},
     "output_type": "execute_result"
    }
   ],
   "source": [
    "model_comparison = compare_models(mvs.models(),X_test,y_test)\n",
    "model_comparison.head()"
   ]
  },
  {
   "cell_type": "markdown",
   "id": "4ccc5ba6",
   "metadata": {},
   "source": [
    "### Update Model Version Set Labels"
   ]
  },
  {
   "cell_type": "code",
   "execution_count": 97,
   "id": "26be1ed0",
   "metadata": {},
   "outputs": [],
   "source": [
    "def update_model_version_label(model_version_set,new_label):\n",
    "    model_ocid = model_version_set.id\n",
    "    temp_dir = tempfile.mkdtemp()\n",
    "    model = SklearnModel.from_model_catalog(model_ocid,artifact_dir=temp_dir,ignore_conda_error=True)\n",
    "    model.update(version_label=new_label)\n",
    "    print('model version set label updated!')\n"
   ]
  },
  {
   "cell_type": "code",
   "execution_count": 98,
   "id": "1f766c79",
   "metadata": {},
   "outputs": [
    {
     "name": "stdout",
     "output_type": "stream",
     "text": [
      "WARNING:ads.model.datascience_model:the JSON object must be str, bytes or bytearray, not Schema\n",
      "WARNING:ads.model.datascience_model:the JSON object must be str, bytes or bytearray, not Schema\n",
      "WARNING:ads.model.datascience_model:the JSON object must be str, bytes or bytearray, not Schema\n",
      "WARNING:ads.model.datascience_model:the JSON object must be str, bytes or bytearray, not Schema\n",
      "WARNING:ads.model.datascience_model:the JSON object must be str, bytes or bytearray, not Schema\n",
      "WARNING:ads.model.datascience_model:the JSON object must be str, bytes or bytearray, not Schema\n"
     ]
    },
    {
     "data": {
      "application/vnd.jupyter.widget-view+json": {
       "model_id": "96b8a64adb59466da860d0b0b2962d23",
       "version_major": 2,
       "version_minor": 0
      },
      "text/plain": [
       "loop1:   0%|          | 0/4 [00:00<?, ?it/s]"
      ]
     },
     "metadata": {},
     "output_type": "display_data"
    },
    {
     "name": "stdout",
     "output_type": "stream",
     "text": [
      "WARNING:ads.common:In the future model input will be serialized by `cloudpickle` by default. Currently, model input are serialized into a dictionary containing serialized input data and original data type information.Set `model_input_serializer=\"cloudpickle\"` to use cloudpickle model input serializer.\n",
      "WARNING:root:Cannot extract the hyperparameters from this model automatically.\n",
      "WARNING:ads.model.datascience_model:the JSON object must be str, bytes or bytearray, not Schema\n",
      "WARNING:ads.model.datascience_model:the JSON object must be str, bytes or bytearray, not Schema\n",
      "model version set label updated!\n"
     ]
    }
   ],
   "source": [
    "update_model_version_label(mvs.models()[0],'Champion Model')"
   ]
  },
  {
   "cell_type": "code",
   "execution_count": 99,
   "id": "ff766eb6",
   "metadata": {},
   "outputs": [
    {
     "name": "stdout",
     "output_type": "stream",
     "text": [
      "WARNING:ads.model.datascience_model:the JSON object must be str, bytes or bytearray, not Schema\n",
      "WARNING:ads.model.datascience_model:the JSON object must be str, bytes or bytearray, not Schema\n",
      "WARNING:ads.model.datascience_model:the JSON object must be str, bytes or bytearray, not Schema\n",
      "WARNING:ads.model.datascience_model:the JSON object must be str, bytes or bytearray, not Schema\n",
      "WARNING:ads.model.datascience_model:the JSON object must be str, bytes or bytearray, not Schema\n",
      "WARNING:ads.model.datascience_model:the JSON object must be str, bytes or bytearray, not Schema\n"
     ]
    },
    {
     "data": {
      "application/vnd.jupyter.widget-view+json": {
       "model_id": "02abc967549a49ac9a2b8caf3f54f46a",
       "version_major": 2,
       "version_minor": 0
      },
      "text/plain": [
       "loop1:   0%|          | 0/4 [00:00<?, ?it/s]"
      ]
     },
     "metadata": {},
     "output_type": "display_data"
    },
    {
     "name": "stdout",
     "output_type": "stream",
     "text": [
      "WARNING:ads.common:In the future model input will be serialized by `cloudpickle` by default. Currently, model input are serialized into a dictionary containing serialized input data and original data type information.Set `model_input_serializer=\"cloudpickle\"` to use cloudpickle model input serializer.\n",
      "WARNING:root:Cannot extract the hyperparameters from this model automatically.\n",
      "WARNING:ads.model.datascience_model:the JSON object must be str, bytes or bytearray, not Schema\n",
      "WARNING:ads.model.datascience_model:the JSON object must be str, bytes or bytearray, not Schema\n",
      "model version set label updated!\n"
     ]
    }
   ],
   "source": [
    "update_model_version_label(mvs.models()[1],'Challenger Model')"
   ]
  },
  {
   "cell_type": "markdown",
   "id": "97cc9474",
   "metadata": {},
   "source": [
    "### Validate that the Version Set Labels were updated"
   ]
  },
  {
   "cell_type": "code",
   "execution_count": 100,
   "id": "f4716e36",
   "metadata": {},
   "outputs": [],
   "source": [
    "mvs = ModelVersionSet.from_name(name='demo-model-version-set',compartment_id=compartment_ocid)"
   ]
  },
  {
   "cell_type": "code",
   "execution_count": 101,
   "id": "925a6cd1",
   "metadata": {},
   "outputs": [
    {
     "name": "stdout",
     "output_type": "stream",
     "text": [
      "WARNING:ads.model.datascience_model:the JSON object must be str, bytes or bytearray, not Schema\n",
      "WARNING:ads.model.datascience_model:the JSON object must be str, bytes or bytearray, not Schema\n",
      "WARNING:ads.model.datascience_model:the JSON object must be str, bytes or bytearray, not Schema\n",
      "WARNING:ads.model.datascience_model:the JSON object must be str, bytes or bytearray, not Schema\n",
      "WARNING:ads.model.datascience_model:the JSON object must be str, bytes or bytearray, not Schema\n",
      "WARNING:ads.model.datascience_model:the JSON object must be str, bytes or bytearray, not Schema\n",
      "WARNING:ads.model.datascience_model:the JSON object must be str, bytes or bytearray, not Schema\n",
      "WARNING:ads.model.datascience_model:the JSON object must be str, bytes or bytearray, not Schema\n",
      "Champion Model 2\n"
     ]
    }
   ],
   "source": [
    "print(mvs.models()[0].version_label,mvs.models()[0].version_id)"
   ]
  },
  {
   "cell_type": "code",
   "execution_count": 102,
   "id": "d4f114bf",
   "metadata": {},
   "outputs": [
    {
     "name": "stdout",
     "output_type": "stream",
     "text": [
      "WARNING:ads.model.datascience_model:the JSON object must be str, bytes or bytearray, not Schema\n",
      "WARNING:ads.model.datascience_model:the JSON object must be str, bytes or bytearray, not Schema\n",
      "WARNING:ads.model.datascience_model:the JSON object must be str, bytes or bytearray, not Schema\n",
      "WARNING:ads.model.datascience_model:the JSON object must be str, bytes or bytearray, not Schema\n",
      "WARNING:ads.model.datascience_model:the JSON object must be str, bytes or bytearray, not Schema\n",
      "WARNING:ads.model.datascience_model:the JSON object must be str, bytes or bytearray, not Schema\n",
      "WARNING:ads.model.datascience_model:the JSON object must be str, bytes or bytearray, not Schema\n",
      "WARNING:ads.model.datascience_model:the JSON object must be str, bytes or bytearray, not Schema\n",
      "Challenger Model 1\n"
     ]
    }
   ],
   "source": [
    "print(mvs.models()[1].version_label,mvs.models()[1].version_id)"
   ]
  }
 ],
 "metadata": {
  "kernelspec": {
   "display_name": "Python 3",
   "language": "python",
   "name": "python3"
  },
  "language_info": {
   "codemirror_mode": {
    "name": "ipython",
    "version": 3
   },
   "file_extension": ".py",
   "mimetype": "text/x-python",
   "name": "python",
   "nbconvert_exporter": "python",
   "pygments_lexer": "ipython3",
   "version": "3.12.10"
  }
 },
 "nbformat": 4,
 "nbformat_minor": 5
}
