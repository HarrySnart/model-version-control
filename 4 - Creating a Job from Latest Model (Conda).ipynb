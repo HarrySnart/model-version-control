{
 "cells": [
  {
   "cell_type": "markdown",
   "id": "80077139",
   "metadata": {},
   "source": [
    "# Creating a Batch Job to Dynamically Load the Champion Model\n",
    "\n",
    "So far we've seen how we can interact with the Model Version Sets to label and re-label our models in order to version control and manage the model lifecycle. \n",
    "\n",
    "In the below we'll see how we can create an OCI Data Science Job that automatically loads the current model champion as part of the workflow. For a production environment, this could be useful where ModelOps processes periodically retrain and replace the current champion and where batch jobs run on a regular cadence."
   ]
  },
  {
   "cell_type": "markdown",
   "id": "40e32099",
   "metadata": {},
   "source": [
    "### Load Dependencies"
   ]
  },
  {
   "cell_type": "code",
   "execution_count": 1,
   "id": "5d34a427",
   "metadata": {},
   "outputs": [],
   "source": [
    "from ads.jobs import Job, DataScienceJob, ScriptRuntime\n",
    "import ads\n",
    "from ads.common.auth import default_signer"
   ]
  },
  {
   "cell_type": "markdown",
   "id": "e3cd786f",
   "metadata": {},
   "source": [
    "### Set Auth and OCIDs"
   ]
  },
  {
   "cell_type": "code",
   "execution_count": 2,
   "id": "c15e4914",
   "metadata": {},
   "outputs": [],
   "source": [
    "ads.set_auth(auth='api_key')"
   ]
  },
  {
   "cell_type": "code",
   "execution_count": null,
   "id": "d3d4a039",
   "metadata": {},
   "outputs": [],
   "source": [
    "# set OCIDs\n",
    "\n",
    "log_group_id = 'ocid1.loggroup...'\n",
    "compartment_ocid = 'ocid1.compartment...'\n",
    "project_ocid = 'ocid1.datascienceproject...'\n",
    "conda_env = 'automlx251_p311_cpu_x86_64_v2'\n",
    "source_dir = 'score_champion_model.py'"
   ]
  },
  {
   "cell_type": "markdown",
   "id": "18adb025",
   "metadata": {},
   "source": [
    "### Define Job"
   ]
  },
  {
   "cell_type": "code",
   "execution_count": 12,
   "id": "18c3675e",
   "metadata": {},
   "outputs": [],
   "source": [
    "job = (\n",
    "    Job(name=\"Score Current Champion\")\n",
    "    .with_infrastructure(\n",
    "        DataScienceJob()\n",
    "        # Configure logging for getting the job run outputs.\n",
    "        .with_log_group_id(log_group_id)\n",
    "        # If you are in an OCI data science notebook session,\n",
    "        # the following configurations are not required.\n",
    "        # Configurations from the notebook session will be used as defaults.\n",
    "        .with_compartment_id(compartment_ocid)\n",
    "        .with_project_id(project_ocid)\n",
    "        #.with_subnet_id(\"<subnet_ocid>\") # use service managed egress\n",
    "        .with_shape_name(\"VM.Standard.E4.Flex\")\n",
    "        # Shape config details are applicable only for the flexible shapes.\n",
    "        .with_shape_config_details(memory_in_gbs=16, ocpus=1)\n",
    "        # Minimum/Default block storage size is 50 (GB).\n",
    "        .with_block_storage_size(50)\n",
    "    )\n",
    "    .with_runtime(\n",
    "        ScriptRuntime()\n",
    "        # Specify the service conda environment by slug name.\n",
    "        .with_service_conda(conda_env)\n",
    "        # The job artifact can be a single Python script, a directory or a zip file.\n",
    "        .with_source(source_dir)\n",
    "    )\n",
    ")"
   ]
  },
  {
   "cell_type": "markdown",
   "id": "e60f5cef",
   "metadata": {},
   "source": [
    "### Create Job"
   ]
  },
  {
   "cell_type": "code",
   "execution_count": null,
   "id": "7dd044ed",
   "metadata": {},
   "outputs": [],
   "source": [
    "job.create()"
   ]
  },
  {
   "cell_type": "markdown",
   "id": "f88e55c8",
   "metadata": {},
   "source": [
    "### Run and Monitor Job"
   ]
  },
  {
   "cell_type": "code",
   "execution_count": null,
   "id": "38cb7e5a",
   "metadata": {},
   "outputs": [],
   "source": [
    "run = job.run('Score current champion')\n",
    "\n",
    "run.watch()"
   ]
  }
 ],
 "metadata": {
  "kernelspec": {
   "display_name": "Python 3",
   "language": "python",
   "name": "python3"
  },
  "language_info": {
   "codemirror_mode": {
    "name": "ipython",
    "version": 3
   },
   "file_extension": ".py",
   "mimetype": "text/x-python",
   "name": "python",
   "nbconvert_exporter": "python",
   "pygments_lexer": "ipython3",
   "version": "3.12.10"
  }
 },
 "nbformat": 4,
 "nbformat_minor": 5
}
