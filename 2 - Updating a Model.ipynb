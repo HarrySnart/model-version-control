{
 "cells": [
  {
   "cell_type": "markdown",
   "id": "924c083a",
   "metadata": {},
   "source": [
    "# Adding a new model to a Model Version Set\n",
    "\n",
    "In this notebook we continue the example by:\n",
    "- creating a new model\n",
    "- uploading that model\n",
    "- updating the model version set\n",
    "\n",
    "This shows how, in a production scenario, we can continuously update the model artefact"
   ]
  },
  {
   "cell_type": "markdown",
   "id": "0b4b5998",
   "metadata": {},
   "source": [
    "### Load Dependencies"
   ]
  },
  {
   "cell_type": "code",
   "execution_count": 56,
   "id": "6ba30d6c",
   "metadata": {},
   "outputs": [
    {
     "name": "stdout",
     "output_type": "stream",
     "text": [
      "WARNING:py.warnings:/var/folders/s8/6gv5fnrj3fj79z3d6sxk21nc0000gn/T/ipykernel_37873/406326583.py:12: DeprecationWarning: The `ads.common.model_metadata` is deprecated in `oracle-ads 2.6.8` and will be removed in future release. Use the `ads.model.model_metadata` instead.\n",
      "  from ads.common.model_metadata import UseCaseType\n",
      "\n"
     ]
    }
   ],
   "source": [
    "import ads\n",
    "import tempfile\n",
    "from ads.model import SklearnModel\n",
    "from ads.model import ModelVersionSet\n",
    "from sklearn.datasets import load_iris\n",
    "from sklearn.linear_model import LogisticRegression\n",
    "from sklearn.ensemble import RandomForestClassifier\n",
    "from sklearn.model_selection import train_test_split\n",
    "from sklearn.metrics import classification_report\n",
    "import pandas as pd\n",
    "import numpy as np\n",
    "from ads.common.model_metadata import UseCaseType"
   ]
  },
  {
   "cell_type": "markdown",
   "id": "6439a0de",
   "metadata": {},
   "source": [
    "### Load Current Champion Model"
   ]
  },
  {
   "cell_type": "code",
   "execution_count": null,
   "id": "7c20ecdb",
   "metadata": {},
   "outputs": [],
   "source": [
    "# load the model version set\n",
    "mvs = ModelVersionSet.from_id(id='ocid1.datasciencemodelversionset...')"
   ]
  },
  {
   "cell_type": "code",
   "execution_count": 23,
   "id": "de1d9c51",
   "metadata": {},
   "outputs": [
    {
     "name": "stdout",
     "output_type": "stream",
     "text": [
      "WARNING:ads.model.datascience_model:the JSON object must be str, bytes or bytearray, not Schema\n",
      "WARNING:ads.model.datascience_model:the JSON object must be str, bytes or bytearray, not Schema\n"
     ]
    }
   ],
   "source": [
    "# view models in version set\n",
    "models = mvs.models()"
   ]
  },
  {
   "cell_type": "code",
   "execution_count": null,
   "id": "6db140e2",
   "metadata": {},
   "outputs": [],
   "source": [
    "models"
   ]
  },
  {
   "cell_type": "code",
   "execution_count": 25,
   "id": "58777e41",
   "metadata": {},
   "outputs": [],
   "source": [
    "# get model ocid of entry in model version set\n",
    "model_ocid = models[0].id"
   ]
  },
  {
   "cell_type": "code",
   "execution_count": 26,
   "id": "6f20bf9b",
   "metadata": {},
   "outputs": [
    {
     "name": "stdout",
     "output_type": "stream",
     "text": [
      "WARNING:ads.model.datascience_model:the JSON object must be str, bytes or bytearray, not Schema\n",
      "WARNING:ads.model.datascience_model:the JSON object must be str, bytes or bytearray, not Schema\n"
     ]
    },
    {
     "data": {
      "application/vnd.jupyter.widget-view+json": {
       "model_id": "b3f1f1dda266440fb013b351d96e90b6",
       "version_major": 2,
       "version_minor": 0
      },
      "text/plain": [
       "loop1:   0%|          | 0/4 [00:00<?, ?it/s]"
      ]
     },
     "metadata": {},
     "output_type": "display_data"
    },
    {
     "name": "stdout",
     "output_type": "stream",
     "text": [
      "WARNING:ads.common:In the future model input will be serialized by `cloudpickle` by default. Currently, model input are serialized into a dictionary containing serialized input data and original data type information.Set `model_input_serializer=\"cloudpickle\"` to use cloudpickle model input serializer.\n",
      "WARNING:root:Cannot extract the hyperparameters from this model automatically.\n"
     ]
    }
   ],
   "source": [
    "# download original model from model catalog\n",
    "downloaded_model = SklearnModel.from_model_catalog(model_ocid,artifact_dir='downloaded-model/',ignore_conda_error=True)"
   ]
  },
  {
   "cell_type": "markdown",
   "id": "80eb68f8",
   "metadata": {},
   "source": [
    "### Calculate Goodness of Fit"
   ]
  },
  {
   "cell_type": "code",
   "execution_count": 27,
   "id": "d0e62096",
   "metadata": {},
   "outputs": [],
   "source": [
    "import joblib\n",
    "\n",
    "original_model = joblib.load('downloaded-model/model.joblib')"
   ]
  },
  {
   "cell_type": "code",
   "execution_count": 29,
   "id": "e5de0277",
   "metadata": {},
   "outputs": [],
   "source": [
    "# load original train/test data\n",
    "X_train = pd.read_csv('data/x_train.csv')\n",
    "X_test = pd.read_csv('data/x_test.csv')\n",
    "y_train = pd.read_csv('data/y_train.csv')\n",
    "y_test = pd.read_csv('data/y_test.csv')"
   ]
  },
  {
   "cell_type": "code",
   "execution_count": 30,
   "id": "07a1eff3",
   "metadata": {},
   "outputs": [
    {
     "name": "stdout",
     "output_type": "stream",
     "text": [
      "WARNING:py.warnings:/Library/Frameworks/Python.framework/Versions/3.12/lib/python3.12/site-packages/sklearn/utils/validation.py:2742: UserWarning: X has feature names, but LogisticRegression was fitted without feature names\n",
      "  warnings.warn(\n",
      "\n"
     ]
    }
   ],
   "source": [
    "# score model on test data\n",
    "preds = original_model.predict(X_test)"
   ]
  },
  {
   "cell_type": "code",
   "execution_count": 49,
   "id": "15ecb446",
   "metadata": {},
   "outputs": [],
   "source": [
    "act_pred = pd.DataFrame({'actual':np.array(y_test['0']),'pred':preds})"
   ]
  },
  {
   "cell_type": "code",
   "execution_count": 48,
   "id": "fd42ef14",
   "metadata": {},
   "outputs": [
    {
     "name": "stdout",
     "output_type": "stream",
     "text": [
      "              precision    recall  f1-score   support\n",
      "\n",
      "           0       1.00      1.00      1.00        12\n",
      "           1       1.00      1.00      1.00        14\n",
      "           2       1.00      1.00      1.00        12\n",
      "\n",
      "    accuracy                           1.00        38\n",
      "   macro avg       1.00      1.00      1.00        38\n",
      "weighted avg       1.00      1.00      1.00        38\n",
      "\n"
     ]
    }
   ],
   "source": [
    "print(classification_report(np.array(y_test['0']),preds))"
   ]
  },
  {
   "cell_type": "markdown",
   "id": "ee82da58",
   "metadata": {},
   "source": [
    "Note: Change dataset later to something less deterministic"
   ]
  },
  {
   "cell_type": "markdown",
   "id": "628619cd",
   "metadata": {},
   "source": [
    "### Create New and Improved Model"
   ]
  },
  {
   "cell_type": "code",
   "execution_count": 51,
   "id": "f2590372",
   "metadata": {},
   "outputs": [],
   "source": [
    "rfc = RandomForestClassifier()"
   ]
  },
  {
   "cell_type": "code",
   "execution_count": 52,
   "id": "6f2a3b42",
   "metadata": {},
   "outputs": [
    {
     "name": "stdout",
     "output_type": "stream",
     "text": [
      "WARNING:py.warnings:/Library/Frameworks/Python.framework/Versions/3.12/lib/python3.12/site-packages/sklearn/base.py:1365: DataConversionWarning: A column-vector y was passed when a 1d array was expected. Please change the shape of y to (n_samples,), for example using ravel().\n",
      "  return fit_method(estimator, *args, **kwargs)\n",
      "\n"
     ]
    }
   ],
   "source": [
    "rfc = rfc.fit(X_train,y_train)"
   ]
  },
  {
   "cell_type": "code",
   "execution_count": 60,
   "id": "8049a928",
   "metadata": {},
   "outputs": [
    {
     "name": "stdout",
     "output_type": "stream",
     "text": [
      "              precision    recall  f1-score   support\n",
      "\n",
      "           0       1.00      1.00      1.00        12\n",
      "           1       1.00      1.00      1.00        14\n",
      "           2       1.00      1.00      1.00        12\n",
      "\n",
      "    accuracy                           1.00        38\n",
      "   macro avg       1.00      1.00      1.00        38\n",
      "weighted avg       1.00      1.00      1.00        38\n",
      "\n"
     ]
    }
   ],
   "source": [
    "# check model performance\n",
    "\n",
    "preds = rfc.predict(X_test)\n",
    "print(classification_report(preds,y_test['0']))"
   ]
  },
  {
   "cell_type": "markdown",
   "id": "c60a79cd",
   "metadata": {},
   "source": [
    "### Save Model to Model Catalog with Version Set"
   ]
  },
  {
   "cell_type": "code",
   "execution_count": 54,
   "id": "57196008",
   "metadata": {},
   "outputs": [
    {
     "name": "stdout",
     "output_type": "stream",
     "text": [
      "WARNING:ads.common:In the future model input will be serialized by `cloudpickle` by default. Currently, model input are serialized into a dictionary containing serialized input data and original data type information.Set `model_input_serializer=\"cloudpickle\"` to use cloudpickle model input serializer.\n"
     ]
    }
   ],
   "source": [
    "# Create an SklearnModel object\n",
    "sklearn_model = SklearnModel(estimator=rfc, artifact_dir='updated-model/')"
   ]
  },
  {
   "cell_type": "code",
   "execution_count": 57,
   "id": "edcc0f07",
   "metadata": {},
   "outputs": [
    {
     "name": "stdout",
     "output_type": "stream",
     "text": [
      "WARNING:py.warnings:/Library/Frameworks/Python.framework/Versions/3.12/lib/python3.12/site-packages/ads/model/runtime/env_info.py:92: UserWarning: slug will be deprecated. Provide conda pack path instead.                                                          ?, ?it/s]\n",
      "  warnings.warn(\"slug will be deprecated. Provide conda pack path instead.\")\n",
      "\n"
     ]
    },
    {
     "data": {
      "text/plain": [
       "algorithm: RandomForestClassifier\n",
       "artifact_dir:\n",
       "  /Users/hsnart/Documents/Custom Demos and Blogs/Model Version Contol/updated-model:\n",
       "  - - .model-ignore\n",
       "    - input_schema.json\n",
       "    - runtime.yaml\n",
       "    - output_schema.json\n",
       "    - model.joblib\n",
       "    - score.py\n",
       "framework: scikit-learn\n",
       "model_deployment_id: null\n",
       "model_id: null"
      ]
     },
     "execution_count": 57,
     "metadata": {},
     "output_type": "execute_result"
    }
   ],
   "source": [
    "sklearn_model.prepare(inference_conda_env=\"generalml_p311_cpu_x86_64_v1\",\n",
    "training_conda_env=\"generalml_p311_cpu_x86_64_v1\",\n",
    "X_sample=X_train,\n",
    "y_sample=y_train,\n",
    "use_case_type=UseCaseType.MULTINOMIAL_CLASSIFICATION\n",
    ")"
   ]
  },
  {
   "cell_type": "code",
   "execution_count": 58,
   "id": "8830e3d1",
   "metadata": {},
   "outputs": [
    {
     "name": "stdout",
     "output_type": "stream",
     "text": [
      "Start loading model.joblib from model directory /Users/hsnart/Documents/Custom Demos and Blogs/Model Version Contol/updated-model ...\n",
      "Model is successfully loaded.\n",
      "WARNING:py.warnings:/Users/hsnart/Documents/Custom Demos and Blogs/Model Version Contol/updated-model/score.py:100: FutureWarning: Passing literal json to 'read_json' is deprecated and will be removed in a future version. To read from a literal string, wrap it in a 'StringIO' object.\n",
      "  return pd.read_json(json_data, dtype=fetch_data_type_from_schema(input_schema_path))\n",
      "\n",
      "WARNING:py.warnings:/Library/Frameworks/Python.framework/Versions/3.12/lib/python3.12/site-packages/sklearn/utils/validation.py:2749: UserWarning: X does not have valid feature names, but RandomForestClassifier was fitted with feature names\n",
      "  warnings.warn(\n",
      "\n"
     ]
    },
    {
     "data": {
      "text/plain": [
       "[1, 2, 2, 1, 0, 1, 0, 2, 1, 1]"
      ]
     },
     "execution_count": 58,
     "metadata": {},
     "output_type": "execute_result"
    }
   ],
   "source": [
    "sklearn_model.verify(X_test[:10])[\"prediction\"]"
   ]
  },
  {
   "cell_type": "code",
   "execution_count": 59,
   "id": "daac5eab",
   "metadata": {},
   "outputs": [
    {
     "data": {
      "text/html": [
       "<div>\n",
       "<style scoped>\n",
       "    .dataframe tbody tr th:only-of-type {\n",
       "        vertical-align: middle;\n",
       "    }\n",
       "\n",
       "    .dataframe tbody tr th {\n",
       "        vertical-align: top;\n",
       "    }\n",
       "\n",
       "    .dataframe thead th {\n",
       "        text-align: right;\n",
       "    }\n",
       "</style>\n",
       "<table border=\"1\" class=\"dataframe\">\n",
       "  <thead>\n",
       "    <tr style=\"text-align: right;\">\n",
       "      <th></th>\n",
       "      <th></th>\n",
       "      <th></th>\n",
       "      <th>Actions Needed</th>\n",
       "    </tr>\n",
       "    <tr>\n",
       "      <th>Step</th>\n",
       "      <th>Status</th>\n",
       "      <th>Details</th>\n",
       "      <th></th>\n",
       "    </tr>\n",
       "  </thead>\n",
       "  <tbody>\n",
       "    <tr>\n",
       "      <th>initiate</th>\n",
       "      <th>Done</th>\n",
       "      <th>Initiated the model</th>\n",
       "      <td></td>\n",
       "    </tr>\n",
       "    <tr>\n",
       "      <th rowspan=\"4\" valign=\"top\">prepare()</th>\n",
       "      <th rowspan=\"4\" valign=\"top\">Done</th>\n",
       "      <th>Generated runtime.yaml</th>\n",
       "      <td></td>\n",
       "    </tr>\n",
       "    <tr>\n",
       "      <th>Generated score.py</th>\n",
       "      <td></td>\n",
       "    </tr>\n",
       "    <tr>\n",
       "      <th>Serialized model</th>\n",
       "      <td></td>\n",
       "    </tr>\n",
       "    <tr>\n",
       "      <th>Populated metadata(Custom, Taxonomy and Provenance)</th>\n",
       "      <td></td>\n",
       "    </tr>\n",
       "    <tr>\n",
       "      <th>verify()</th>\n",
       "      <th>Done</th>\n",
       "      <th>Local tested .predict from score.py</th>\n",
       "      <td></td>\n",
       "    </tr>\n",
       "    <tr>\n",
       "      <th rowspan=\"2\" valign=\"top\">save()</th>\n",
       "      <th rowspan=\"2\" valign=\"top\">Available</th>\n",
       "      <th>Conducted Introspect Test</th>\n",
       "      <td></td>\n",
       "    </tr>\n",
       "    <tr>\n",
       "      <th>Uploaded artifact to model catalog</th>\n",
       "      <td></td>\n",
       "    </tr>\n",
       "    <tr>\n",
       "      <th>deploy()</th>\n",
       "      <th>UNKNOWN</th>\n",
       "      <th>Deployed the model</th>\n",
       "      <td></td>\n",
       "    </tr>\n",
       "    <tr>\n",
       "      <th>predict()</th>\n",
       "      <th>Not Available</th>\n",
       "      <th>Called deployment predict endpoint</th>\n",
       "      <td></td>\n",
       "    </tr>\n",
       "  </tbody>\n",
       "</table>\n",
       "</div>"
      ],
      "text/plain": [
       "                                                                            Actions Needed\n",
       "Step      Status        Details                                                           \n",
       "initiate  Done          Initiated the model                                               \n",
       "prepare() Done          Generated runtime.yaml                                            \n",
       "                        Generated score.py                                                \n",
       "                        Serialized model                                                  \n",
       "                        Populated metadata(Custom, Taxonomy and Provenance)               \n",
       "verify()  Done          Local tested .predict from score.py                               \n",
       "save()    Available     Conducted Introspect Test                                         \n",
       "                        Uploaded artifact to model catalog                                \n",
       "deploy()  UNKNOWN       Deployed the model                                                \n",
       "predict() Not Available Called deployment predict endpoint                                "
      ]
     },
     "execution_count": 59,
     "metadata": {},
     "output_type": "execute_result"
    }
   ],
   "source": [
    "sklearn_model.summary_status()"
   ]
  },
  {
   "cell_type": "code",
   "execution_count": null,
   "id": "23545f30",
   "metadata": {},
   "outputs": [
    {
     "name": "stdout",
     "output_type": "stream",
     "text": [
      "Start loading model.joblib from model directory /Users/hsnart/Documents/Custom Demos and Blogs/Model Version Contol/updated-model ...\n",
      "Model is successfully loaded.\n",
      "['.model-ignore', 'input_schema.json', 'runtime.yaml', 'output_schema.json', 'model.joblib', 'score.py']\n"
     ]
    },
    {
     "data": {
      "application/vnd.jupyter.widget-view+json": {
       "model_id": "2bbc7e2f11794c0abd647313025eb1d6",
       "version_major": 2,
       "version_minor": 0
      },
      "text/plain": [
       "loop1:   0%|          | 0/4 [00:00<?, ?it/s]"
      ]
     },
     "metadata": {},
     "output_type": "display_data"
    },
    {
     "name": "stdout",
     "output_type": "stream",
     "text": [
      "WARNING:ads.model.datascience_model:the JSON object must be str, bytes or bytearray, not Schema\n",
      "WARNING:ads.model.datascience_model:the JSON object must be str, bytes or bytearray, not Schema\n"
     ]
    }
   ],
   "source": [
    "# Save the model and add it to the model version set\n",
    "project_ocid = 'ocid1.datascienceproject...'\n",
    "compartment_ocid = 'ocid1.compartment...'\n",
    "\n",
    "model_id = sklearn_model.save(compartment_id=compartment_ocid,\n",
    "    project_id=project_ocid,\n",
    "    display_name=\"Updated model\",\n",
    "    model_version_set=mvs,\n",
    "    version_label=\"Version 2\")"
   ]
  },
  {
   "cell_type": "code",
   "execution_count": null,
   "id": "b87fde6b",
   "metadata": {},
   "outputs": [],
   "source": [
    "mvs.description = \"Updated champion model to Random Forest\"\n",
    "mvs.update()"
   ]
  }
 ],
 "metadata": {
  "kernelspec": {
   "display_name": "Python 3",
   "language": "python",
   "name": "python3"
  },
  "language_info": {
   "codemirror_mode": {
    "name": "ipython",
    "version": 3
   },
   "file_extension": ".py",
   "mimetype": "text/x-python",
   "name": "python",
   "nbconvert_exporter": "python",
   "pygments_lexer": "ipython3",
   "version": "3.12.10"
  }
 },
 "nbformat": 4,
 "nbformat_minor": 5
}
